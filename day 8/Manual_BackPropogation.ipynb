{
 "cells": [
  {
   "cell_type": "code",
   "execution_count": 7,
   "metadata": {},
   "outputs": [
    {
     "name": "stdout",
     "output_type": "stream",
     "text": [
      "Updated W5:  -0.44999999999999996\n",
      "Updated W1:  1.6524999999999999\n"
     ]
    }
   ],
   "source": [
    "# Step 1: Define dataset\n",
    "x = [5, 10, 30, 1]  # Features: [height, weight, age, smoking]\n",
    "y = 20  # Target output\n",
    "\n",
    "# Step 2: Initialize weights\n",
    "W1, W2, W3, W4 = 1, 0, -1, 0.5  # Weights for hidden layer\n",
    "W5, W6 = 1, -1  # Weights for output layer\n",
    "learning_rate = 0.01  # Learning rate\n",
    "\n",
    "# Step 3: Forward Pass\n",
    "H1 = W1 * x[0] + W2 * x[1]  # H1 computation\n",
    "H2 = W3 * x[2] + W4 * x[3]  # H2 computation\n",
    "y_hat = W5 * H1 + W6 * H2  # Output computation\n",
    "\n",
    "# Step 4: Compute Error\n",
    "J = (y_hat - y) ** 2  # Squared error\n",
    "\n",
    "# Step 5: Backpropagation\n",
    "# Compute gradient for W5\n",
    "dJ_dy_hat = 2 * (y_hat - y)\n",
    "dy_hat_dW5 = H1\n",
    "dJ_dW5 = dJ_dy_hat * dy_hat_dW5\n",
    "\n",
    "# Update W5\n",
    "W5 -= learning_rate * dJ_dW5\n",
    "\n",
    "# Compute gradient for W1\n",
    "dH1_dW1 = x[0]\n",
    "dy_hat_dH1 = W5\n",
    "dJ_dW1 = dJ_dy_hat * dy_hat_dH1 * dH1_dW1\n",
    "\n",
    "# Update W1\n",
    "W1 -= learning_rate * dJ_dW1\n",
    "\n",
    "# Print updated weights\n",
    "print(f\"Updated W5: \",W5)\n",
    "print(f\"Updated W1: \",W1)\n"
   ]
  }
 ],
 "metadata": {
  "kernelspec": {
   "display_name": "Python 3",
   "language": "python",
   "name": "python3"
  },
  "language_info": {
   "codemirror_mode": {
    "name": "ipython",
    "version": 3
   },
   "file_extension": ".py",
   "mimetype": "text/x-python",
   "name": "python",
   "nbconvert_exporter": "python",
   "pygments_lexer": "ipython3",
   "version": "3.11.1"
  }
 },
 "nbformat": 4,
 "nbformat_minor": 2
}
