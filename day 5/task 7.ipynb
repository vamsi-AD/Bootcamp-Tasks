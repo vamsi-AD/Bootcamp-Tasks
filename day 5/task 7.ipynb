{
 "cells": [
  {
   "cell_type": "code",
   "execution_count": 1,
   "metadata": {},
   "outputs": [],
   "source": [
    "import pandas as pd\n",
    "import matplotlib.pyplot as plt\n",
    "from sklearn.datasets import load_iris\n",
    "from sklearn.cluster import KMeans\n",
    "from sklearn.preprocessing import StandardScaler\n",
    "from sklearn.metrics import adjusted_rand_score, homogeneity_score, completeness_score\n",
    "from sklearn.metrics.pairwise import euclidean_distances, manhattan_distances\n",
    "import numpy as np"
   ]
  },
  {
   "cell_type": "code",
   "execution_count": 2,
   "metadata": {},
   "outputs": [],
   "source": [
    "iris = load_iris()\n",
    "iris_df = pd.DataFrame(data=iris.data, columns=iris.feature_names)\n",
    "scaler = StandardScaler()\n",
    "scaled_features = scaler.fit_transform(iris_df)"
   ]
  },
  {
   "cell_type": "code",
   "execution_count": 3,
   "metadata": {},
   "outputs": [
    {
     "name": "stderr",
     "output_type": "stream",
     "text": [
      "c:\\Users\\Admin\\anaconda3\\Lib\\site-packages\\sklearn\\cluster\\_kmeans.py:1429: UserWarning: KMeans is known to have a memory leak on Windows with MKL, when there are less chunks than available threads. You can avoid it by setting the environment variable OMP_NUM_THREADS=1.\n",
      "  warnings.warn(\n"
     ]
    }
   ],
   "source": [
    "kmeans_default = KMeans(n_clusters=3, random_state=42, n_init='auto')\n",
    "clusters_default = kmeans_default.fit_predict(scaled_features)"
   ]
  },
  {
   "cell_type": "code",
   "execution_count": 4,
   "metadata": {},
   "outputs": [],
   "source": [
    "def manhattan_kmeans(data, n_clusters, random_state=42):\n",
    "    kmeans = KMeans(n_clusters=n_clusters, random_state=random_state, init='random', n_init=1) #manual init, n_init=1\n",
    "    kmeans.fit(data)\n",
    "    distances = manhattan_distances(data, kmeans.cluster_centers_)\n",
    "    clusters = np.argmin(distances, axis=1)\n",
    "    return clusters, kmeans.cluster_centers_"
   ]
  },
  {
   "cell_type": "code",
   "execution_count": 8,
   "metadata": {},
   "outputs": [
    {
     "name": "stderr",
     "output_type": "stream",
     "text": [
      "c:\\Users\\Admin\\anaconda3\\Lib\\site-packages\\sklearn\\cluster\\_kmeans.py:1429: UserWarning: KMeans is known to have a memory leak on Windows with MKL, when there are less chunks than available threads. You can avoid it by setting the environment variable OMP_NUM_THREADS=1.\n",
      "  warnings.warn(\n"
     ]
    }
   ],
   "source": [
    "clusters_manhattan, centroids_manhattan = manhattan_kmeans(scaled_features, 3)"
   ]
  },
  {
   "cell_type": "code",
   "execution_count": 9,
   "metadata": {},
   "outputs": [
    {
     "name": "stderr",
     "output_type": "stream",
     "text": [
      "c:\\Users\\Admin\\anaconda3\\Lib\\site-packages\\sklearn\\cluster\\_kmeans.py:1429: UserWarning: KMeans is known to have a memory leak on Windows with MKL, when there are less chunks than available threads. You can avoid it by setting the environment variable OMP_NUM_THREADS=1.\n",
      "  warnings.warn(\n"
     ]
    }
   ],
   "source": [
    "kmeans_random_init = KMeans(n_clusters=3, random_state=42, init='random', n_init='auto')\n",
    "clusters_random_init = kmeans_random_init.fit_predict(scaled_features)"
   ]
  },
  {
   "cell_type": "code",
   "execution_count": 10,
   "metadata": {},
   "outputs": [],
   "source": [
    "def evaluate_clusters(true_labels, predicted_clusters, label):\n",
    "    ari = adjusted_rand_score(true_labels, predicted_clusters)\n",
    "    homogeneity = homogeneity_score(true_labels, predicted_clusters)\n",
    "    completeness = completeness_score(true_labels, predicted_clusters)\n",
    "    print(f\"\\nEvaluation Metrics for {label}:\")\n",
    "    print(f\"  Adjusted Rand Index (ARI): {ari:.4f}\")\n",
    "    print(f\"  Homogeneity Score: {homogeneity:.4f}\")\n",
    "    print(f\"  Completeness Score: {completeness:.4f}\")"
   ]
  },
  {
   "cell_type": "code",
   "execution_count": 11,
   "metadata": {},
   "outputs": [
    {
     "name": "stdout",
     "output_type": "stream",
     "text": [
      "\n",
      "Evaluation Metrics for Default K-means:\n",
      "  Adjusted Rand Index (ARI): 0.4328\n",
      "  Homogeneity Score: 0.5347\n",
      "  Completeness Score: 0.6570\n",
      "\n",
      "Evaluation Metrics for Manhattan K-means:\n",
      "  Adjusted Rand Index (ARI): 0.6530\n",
      "  Homogeneity Score: 0.6823\n",
      "  Completeness Score: 0.6853\n",
      "\n",
      "Evaluation Metrics for Random Initialization K-means:\n",
      "  Adjusted Rand Index (ARI): 0.6101\n",
      "  Homogeneity Score: 0.6524\n",
      "  Completeness Score: 0.6527\n"
     ]
    }
   ],
   "source": [
    "evaluate_clusters(iris.target, clusters_default, \"Default K-means\")\n",
    "evaluate_clusters(iris.target, clusters_manhattan, \"Manhattan K-means\")\n",
    "evaluate_clusters(iris.target, clusters_random_init, \"Random Initialization K-means\")"
   ]
  },
  {
   "cell_type": "code",
   "execution_count": null,
   "metadata": {},
   "outputs": [],
   "source": []
  }
 ],
 "metadata": {
  "kernelspec": {
   "display_name": "base",
   "language": "python",
   "name": "python3"
  },
  "language_info": {
   "codemirror_mode": {
    "name": "ipython",
    "version": 3
   },
   "file_extension": ".py",
   "mimetype": "text/x-python",
   "name": "python",
   "nbconvert_exporter": "python",
   "pygments_lexer": "ipython3",
   "version": "3.12.4"
  }
 },
 "nbformat": 4,
 "nbformat_minor": 2
}
