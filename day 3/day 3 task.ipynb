{
 "cells": [
  {
   "cell_type": "code",
   "execution_count": 5,
   "metadata": {},
   "outputs": [
    {
     "name": "stdout",
     "output_type": "stream",
     "text": [
      "Mathi is barking...\n",
      "Mathi is sleeping...\n"
     ]
    }
   ],
   "source": [
    "# Task 1: Class Creation (Dog Class)\n",
    "\n",
    "class Dog:\n",
    "    def __init__(self,name,age):\n",
    "        self.name = name\n",
    "        self.age = age\n",
    "    \n",
    "    def bark(self):\n",
    "        print(f\"{self.name} is barking...\")\n",
    "        \n",
    "    def sleep(self):\n",
    "        print(f\"{self.name} is sleeping...\")\n",
    "        \n",
    "dog1 = Dog('Mathi',5)\n",
    "\n",
    "dog1.bark()\n",
    "dog1.sleep()\n",
    "        "
   ]
  },
  {
   "cell_type": "code",
   "execution_count": 2,
   "metadata": {},
   "outputs": [
    {
     "name": "stdout",
     "output_type": "stream",
     "text": [
      "Name: simba, Age: 2\n",
      "Name: mathi, Age: 5\n",
      "Name: jack, Age: 4\n"
     ]
    }
   ],
   "source": [
    "# Task 2: Constructor Usage\n",
    "class Dog:\n",
    "    def __init__(self,name,age):\n",
    "        self.name = name\n",
    "        self.age = age\n",
    "        \n",
    "dog1, dog2, dog3 = Dog('simba',2), Dog('mathi',5), Dog('jack', 4)\n",
    "\n",
    "for obj in [dog1,dog2,dog3]:\n",
    "    print(f\"Name: {obj.name}, Age: {obj.age}\")"
   ]
  },
  {
   "cell_type": "code",
   "execution_count": 4,
   "metadata": {},
   "outputs": [
    {
     "name": "stdout",
     "output_type": "stream",
     "text": [
      "lion is barking...\n",
      "lion is sleeping...\n",
      "lion is playing...\n"
     ]
    }
   ],
   "source": [
    "# Task 3: Inheritance (Puppy Class)\n",
    "\n",
    "class Puppy(Dog):\n",
    "    \n",
    "    def play(self):\n",
    "        print(f\"{self.name} is playing...\")\n",
    "        \n",
    "puppy1 = Puppy('lion', 5)\n",
    "\n",
    "puppy1.bark()\n",
    "puppy1.sleep()\n",
    "puppy1.play()"
   ]
  },
  {
   "cell_type": "code",
   "execution_count": 6,
   "metadata": {},
   "outputs": [
    {
     "name": "stdout",
     "output_type": "stream",
     "text": [
      "sam is barking...\n",
      "sam is sleeping...\n",
      "sam is meowing...\n",
      "sam is purring...\n"
     ]
    }
   ],
   "source": [
    "# Task 4: Multiple Inheritance (Hybrid Class)\n",
    "class Cat:\n",
    "    def __init__(self,name,age):\n",
    "        self.name = name\n",
    "        self.age = age\n",
    "    \n",
    "    def meow(self):\n",
    "        print(f\"{self.name} is meowing...\")\n",
    "        \n",
    "    def purr(self):\n",
    "        print(f\"{self.name} is purring...\")\n",
    "\n",
    "class Hybrid(Dog,Cat):\n",
    "    \n",
    "    def info():\n",
    "        print(\"This is a hybrid species\")\n",
    "        \n",
    "obj = Hybrid('sam',6)\n",
    "\n",
    "obj.bark()\n",
    "obj.sleep()\n",
    "obj.meow()\n",
    "obj.purr()\n"
   ]
  },
  {
   "cell_type": "code",
   "execution_count": 42,
   "metadata": {},
   "outputs": [
    {
     "name": "stdout",
     "output_type": "stream",
     "text": [
      "Energy Level : 100\n",
      "Energy Level : 50\n",
      "Energy Level : 60\n"
     ]
    },
    {
     "ename": "AttributeError",
     "evalue": "'Robot' object has no attribute '__energy_level'",
     "output_type": "error",
     "traceback": [
      "\u001b[1;31m---------------------------------------------------------------------------\u001b[0m",
      "\u001b[1;31mAttributeError\u001b[0m                            Traceback (most recent call last)",
      "Cell \u001b[1;32mIn[42], line 26\u001b[0m\n\u001b[0;32m     23\u001b[0m demo\u001b[38;5;241m.\u001b[39mset_energy(\u001b[38;5;241m50\u001b[39m)\n\u001b[0;32m     24\u001b[0m demo\u001b[38;5;241m.\u001b[39mcharge()\n\u001b[1;32m---> 26\u001b[0m \u001b[38;5;28mprint\u001b[39m(demo\u001b[38;5;241m.\u001b[39m__energy_level)\n",
      "\u001b[1;31mAttributeError\u001b[0m: 'Robot' object has no attribute '__energy_level'"
     ]
    }
   ],
   "source": [
    "# Task 5: Encapsulation (Robot Class)\n",
    "\n",
    "class Robot:\n",
    "     \n",
    "    def __init__(this):\n",
    "        this.__energy_level = 100\n",
    "        this._model = '1.0'\n",
    "    \n",
    "    def get_energy(this):\n",
    "        print(f\"Energy Level : {this.__energy_level}\")\n",
    "        \n",
    "    def set_energy(this, energy):\n",
    "        this.__energy_level = energy\n",
    "        this.get_energy()\n",
    "        \n",
    "    def charge(this):\n",
    "        this.__energy_level += 10\n",
    "        this.get_energy()\n",
    "          \n",
    "demo = Robot()\n",
    "\n",
    "demo.get_energy()\n",
    "demo.set_energy(50)\n",
    "demo.charge()\n",
    "\n",
    "print(demo.__energy_level)\n",
    "\n",
    "\n",
    "\n"
   ]
  },
  {
   "cell_type": "code",
   "execution_count": 44,
   "metadata": {},
   "outputs": [
    {
     "name": "stdout",
     "output_type": "stream",
     "text": [
      "Bark!....\n",
      "Meow!...\n"
     ]
    },
    {
     "ename": "NotImplementedError",
     "evalue": "",
     "output_type": "error",
     "traceback": [
      "\u001b[1;31m---------------------------------------------------------------------------\u001b[0m",
      "\u001b[1;31mNotImplementedError\u001b[0m                       Traceback (most recent call last)",
      "Cell \u001b[1;32mIn[44], line 25\u001b[0m\n\u001b[0;32m     23\u001b[0m animal_speak(dog)\n\u001b[0;32m     24\u001b[0m animal_speak(cat)\n\u001b[1;32m---> 25\u001b[0m animal_speak(animal)\n",
      "Cell \u001b[1;32mIn[44], line 21\u001b[0m, in \u001b[0;36manimal_speak\u001b[1;34m(obj)\u001b[0m\n\u001b[0;32m     20\u001b[0m \u001b[38;5;28;01mdef\u001b[39;00m \u001b[38;5;21manimal_speak\u001b[39m(obj):\n\u001b[1;32m---> 21\u001b[0m     obj\u001b[38;5;241m.\u001b[39mspeak()\n",
      "Cell \u001b[1;32mIn[44], line 6\u001b[0m, in \u001b[0;36mAnimal.speak\u001b[1;34m(self)\u001b[0m\n\u001b[0;32m      5\u001b[0m \u001b[38;5;28;01mdef\u001b[39;00m \u001b[38;5;21mspeak\u001b[39m(\u001b[38;5;28mself\u001b[39m):\n\u001b[1;32m----> 6\u001b[0m     \u001b[38;5;28;01mraise\u001b[39;00m \u001b[38;5;167;01mNotImplementedError\u001b[39;00m\n",
      "\u001b[1;31mNotImplementedError\u001b[0m: "
     ]
    }
   ],
   "source": [
    "# Task 6: Polymorphism (Animal Class)\n",
    "\n",
    "class Animal:\n",
    "    \n",
    "    def speak(self):\n",
    "        raise NotImplementedError\n",
    "\n",
    "class Dog(Animal):\n",
    "    def speak(self):\n",
    "        print(\"Bark!....\")\n",
    "        \n",
    "class Cat(Animal):\n",
    "    def speak(self):\n",
    "        print(\"Meow!...\")\n",
    "        \n",
    "animal = Animal()        \n",
    "dog = Dog()\n",
    "cat = Cat()\n",
    "\n",
    "def animal_speak(obj):\n",
    "    obj.speak()\n",
    "    \n",
    "animal_speak(dog)\n",
    "animal_speak(cat)\n",
    "animal_speak(animal)"
   ]
  },
  {
   "cell_type": "code",
   "execution_count": null,
   "metadata": {},
   "outputs": [
    {
     "name": "stdout",
     "output_type": "stream",
     "text": [
      "100\n"
     ]
    }
   ],
   "source": [
    "class robot:\n",
    "    def __init__(self):\n",
    "        self.__energy_level = 100\n",
    "        self._model = '1.0'\n",
    "        \n",
    "obj = robot()\n",
    "print(obj.energy_level)"
   ]
  },
  {
   "cell_type": "code",
   "execution_count": null,
   "metadata": {},
   "outputs": [],
   "source": []
  }
 ],
 "metadata": {
  "kernelspec": {
   "display_name": "base",
   "language": "python",
   "name": "python3"
  },
  "language_info": {
   "codemirror_mode": {
    "name": "ipython",
    "version": 3
   },
   "file_extension": ".py",
   "mimetype": "text/x-python",
   "name": "python",
   "nbconvert_exporter": "python",
   "pygments_lexer": "ipython3",
   "version": "3.12.4"
  }
 },
 "nbformat": 4,
 "nbformat_minor": 2
}
